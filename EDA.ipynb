{
 "cells": [
  {
   "cell_type": "markdown",
   "metadata": {},
   "source": [
    "# Cancer Subtype Prediction using Gene Expression Data"
   ]
  },
  {
   "cell_type": "markdown",
   "metadata": {},
   "source": [
    "## Project structure\n",
    "0) Plan\n",
    "1) Importing the libraries and reading the data\n",
    "2) Checking examples and statistics\n",
    "3) Performing EDA\n",
    "4) Data engineering & Model creation\n",
    "5) Conclusion\n",
    "6) Improvment plan\n",
    "7) Bibliography"
   ]
  },
  {
   "cell_type": "markdown",
   "metadata": {},
   "source": [
    "### 0) Plan\n",
    "\n",
    "This is a brief initial plan for conducting the project that recapitulates the main ideas adopted while carrying out the design and implementation.\n",
    "\n",
    "- Data preprocessing : \n",
    "\n",
    "First, understand the problem. Then, check which format the data is in, check for missing values and dataset statistics.\n",
    "\n",
    "- Exploratory data analysis (EDA) :\n",
    "\n",
    "Take a deep dive into the data : What information does the data contain? What relations exist between the features themselves? between the features and the target variable?\n",
    "\n",
    "- Data engineering :\n",
    "\n",
    "This dataset is obtained using the Microarray technology. This technology is known for carrying background noise [2]. Therefore, it can be interesting to eliminate this noise (outliers for example).\n",
    "\n",
    "Selecting a subset of features is also important since there are a lot of features (+20k) which are not all informative. We prefer using feature selection over dimensionality reduction to avoid creating new features that do not have a technical significance in genetics.\n",
    "\n",
    "- Modeling :\n",
    "\n",
    "Use a model that is not sensitive to outliers such as ensemble methods to mitigate the Microarray limitation.\n",
    "Since the dataset is small, we can train multiple models at once and keep the best performing one.\n"
   ]
  },
  {
   "cell_type": "markdown",
   "metadata": {},
   "source": [
    "### 1) Importing the libraries and reading the data\n"
   ]
  },
  {
   "cell_type": "code",
   "execution_count": 45,
   "metadata": {},
   "outputs": [],
   "source": [
    "import matplotlib.pyplot as plt\n",
    "import seaborn as sns\n",
    "import pandas as pd\n",
    "import numpy as np"
   ]
  },
  {
   "cell_type": "code",
   "execution_count": 46,
   "metadata": {},
   "outputs": [],
   "source": [
    "df = pd.read_csv('Data/train.csv', index_col=0)"
   ]
  },
  {
   "cell_type": "markdown",
   "metadata": {},
   "source": [
    "### 2) Checking data examples and statistics"
   ]
  },
  {
   "cell_type": "code",
   "execution_count": 47,
   "metadata": {},
   "outputs": [
    {
     "data": {
      "text/html": [
       "<div>\n",
       "<style scoped>\n",
       "    .dataframe tbody tr th:only-of-type {\n",
       "        vertical-align: middle;\n",
       "    }\n",
       "\n",
       "    .dataframe tbody tr th {\n",
       "        vertical-align: top;\n",
       "    }\n",
       "\n",
       "    .dataframe thead th {\n",
       "        text-align: right;\n",
       "    }\n",
       "</style>\n",
       "<table border=\"1\" class=\"dataframe\">\n",
       "  <thead>\n",
       "    <tr style=\"text-align: right;\">\n",
       "      <th></th>\n",
       "      <th>samples</th>\n",
       "      <th>type</th>\n",
       "      <th>1007_s_at</th>\n",
       "      <th>1053_at</th>\n",
       "      <th>117_at</th>\n",
       "      <th>121_at</th>\n",
       "      <th>1255_g_at</th>\n",
       "      <th>1294_at</th>\n",
       "      <th>1316_at</th>\n",
       "      <th>1320_at</th>\n",
       "      <th>...</th>\n",
       "      <th>AFFX-r2-Hs28SrRNA-5_at</th>\n",
       "      <th>AFFX-r2-Hs28SrRNA-M_at</th>\n",
       "      <th>AFFX-r2-P1-cre-3_at</th>\n",
       "      <th>AFFX-r2-P1-cre-5_at</th>\n",
       "      <th>AFFX-ThrX-3_at</th>\n",
       "      <th>AFFX-ThrX-5_at</th>\n",
       "      <th>AFFX-ThrX-M_at</th>\n",
       "      <th>AFFX-TrpnX-3_at</th>\n",
       "      <th>AFFX-TrpnX-5_at</th>\n",
       "      <th>AFFX-TrpnX-M_at</th>\n",
       "    </tr>\n",
       "  </thead>\n",
       "  <tbody>\n",
       "    <tr>\n",
       "      <th>88</th>\n",
       "      <td>GSM139466.CEL.gz</td>\n",
       "      <td>Ovarian_Tumor_Serous</td>\n",
       "      <td>10.657338</td>\n",
       "      <td>7.334390</td>\n",
       "      <td>6.008316</td>\n",
       "      <td>11.110976</td>\n",
       "      <td>4.369533</td>\n",
       "      <td>8.405554</td>\n",
       "      <td>5.394035</td>\n",
       "      <td>5.132351</td>\n",
       "      <td>...</td>\n",
       "      <td>4.420118</td>\n",
       "      <td>5.289211</td>\n",
       "      <td>12.830594</td>\n",
       "      <td>12.903713</td>\n",
       "      <td>4.690083</td>\n",
       "      <td>4.282668</td>\n",
       "      <td>4.141177</td>\n",
       "      <td>3.923703</td>\n",
       "      <td>4.111312</td>\n",
       "      <td>4.094231</td>\n",
       "    </tr>\n",
       "    <tr>\n",
       "      <th>23</th>\n",
       "      <td>GSM139400.CEL.gz</td>\n",
       "      <td>Ovarian_Tumor_Endometrioid</td>\n",
       "      <td>11.491874</td>\n",
       "      <td>6.683240</td>\n",
       "      <td>5.902034</td>\n",
       "      <td>10.236538</td>\n",
       "      <td>4.421190</td>\n",
       "      <td>7.685912</td>\n",
       "      <td>5.674513</td>\n",
       "      <td>5.128294</td>\n",
       "      <td>...</td>\n",
       "      <td>4.600560</td>\n",
       "      <td>5.540428</td>\n",
       "      <td>13.295688</td>\n",
       "      <td>13.478680</td>\n",
       "      <td>4.813273</td>\n",
       "      <td>4.386874</td>\n",
       "      <td>4.218702</td>\n",
       "      <td>3.986668</td>\n",
       "      <td>4.155982</td>\n",
       "      <td>4.076248</td>\n",
       "    </tr>\n",
       "    <tr>\n",
       "      <th>48</th>\n",
       "      <td>GSM139426.CEL.gz</td>\n",
       "      <td>Ovarian_Tumor_Mucinous</td>\n",
       "      <td>10.314452</td>\n",
       "      <td>6.495305</td>\n",
       "      <td>6.067844</td>\n",
       "      <td>8.932200</td>\n",
       "      <td>4.313781</td>\n",
       "      <td>7.720813</td>\n",
       "      <td>5.557916</td>\n",
       "      <td>5.193771</td>\n",
       "      <td>...</td>\n",
       "      <td>4.753995</td>\n",
       "      <td>5.827996</td>\n",
       "      <td>13.434393</td>\n",
       "      <td>13.707801</td>\n",
       "      <td>4.901715</td>\n",
       "      <td>4.456844</td>\n",
       "      <td>4.249358</td>\n",
       "      <td>4.043522</td>\n",
       "      <td>4.229169</td>\n",
       "      <td>4.102726</td>\n",
       "    </tr>\n",
       "    <tr>\n",
       "      <th>14</th>\n",
       "      <td>GSM139391.CEL.gz</td>\n",
       "      <td>Ovarian_Tumor_Endometrioid</td>\n",
       "      <td>10.513461</td>\n",
       "      <td>6.422066</td>\n",
       "      <td>6.011060</td>\n",
       "      <td>9.872251</td>\n",
       "      <td>4.256327</td>\n",
       "      <td>7.600642</td>\n",
       "      <td>5.542977</td>\n",
       "      <td>4.997941</td>\n",
       "      <td>...</td>\n",
       "      <td>4.625638</td>\n",
       "      <td>5.529046</td>\n",
       "      <td>13.135787</td>\n",
       "      <td>13.222189</td>\n",
       "      <td>4.791806</td>\n",
       "      <td>4.283359</td>\n",
       "      <td>4.063190</td>\n",
       "      <td>3.921959</td>\n",
       "      <td>4.149170</td>\n",
       "      <td>4.063612</td>\n",
       "    </tr>\n",
       "    <tr>\n",
       "      <th>63</th>\n",
       "      <td>GSM139441.CEL.gz</td>\n",
       "      <td>Ovarian_Tumor_Serous</td>\n",
       "      <td>10.974670</td>\n",
       "      <td>7.051280</td>\n",
       "      <td>5.961062</td>\n",
       "      <td>10.835584</td>\n",
       "      <td>4.279674</td>\n",
       "      <td>8.352425</td>\n",
       "      <td>5.664856</td>\n",
       "      <td>5.197727</td>\n",
       "      <td>...</td>\n",
       "      <td>4.754682</td>\n",
       "      <td>5.958735</td>\n",
       "      <td>12.359415</td>\n",
       "      <td>11.651661</td>\n",
       "      <td>5.044779</td>\n",
       "      <td>4.474342</td>\n",
       "      <td>4.202246</td>\n",
       "      <td>4.020624</td>\n",
       "      <td>4.276949</td>\n",
       "      <td>4.062319</td>\n",
       "    </tr>\n",
       "  </tbody>\n",
       "</table>\n",
       "<p>5 rows × 22285 columns</p>\n",
       "</div>"
      ],
      "text/plain": [
       "             samples                        type  1007_s_at   1053_at  \\\n",
       "88  GSM139466.CEL.gz        Ovarian_Tumor_Serous  10.657338  7.334390   \n",
       "23  GSM139400.CEL.gz  Ovarian_Tumor_Endometrioid  11.491874  6.683240   \n",
       "48  GSM139426.CEL.gz      Ovarian_Tumor_Mucinous  10.314452  6.495305   \n",
       "14  GSM139391.CEL.gz  Ovarian_Tumor_Endometrioid  10.513461  6.422066   \n",
       "63  GSM139441.CEL.gz        Ovarian_Tumor_Serous  10.974670  7.051280   \n",
       "\n",
       "      117_at     121_at  1255_g_at   1294_at   1316_at   1320_at  ...  \\\n",
       "88  6.008316  11.110976   4.369533  8.405554  5.394035  5.132351  ...   \n",
       "23  5.902034  10.236538   4.421190  7.685912  5.674513  5.128294  ...   \n",
       "48  6.067844   8.932200   4.313781  7.720813  5.557916  5.193771  ...   \n",
       "14  6.011060   9.872251   4.256327  7.600642  5.542977  4.997941  ...   \n",
       "63  5.961062  10.835584   4.279674  8.352425  5.664856  5.197727  ...   \n",
       "\n",
       "    AFFX-r2-Hs28SrRNA-5_at  AFFX-r2-Hs28SrRNA-M_at  AFFX-r2-P1-cre-3_at  \\\n",
       "88                4.420118                5.289211            12.830594   \n",
       "23                4.600560                5.540428            13.295688   \n",
       "48                4.753995                5.827996            13.434393   \n",
       "14                4.625638                5.529046            13.135787   \n",
       "63                4.754682                5.958735            12.359415   \n",
       "\n",
       "    AFFX-r2-P1-cre-5_at  AFFX-ThrX-3_at  AFFX-ThrX-5_at  AFFX-ThrX-M_at  \\\n",
       "88            12.903713        4.690083        4.282668        4.141177   \n",
       "23            13.478680        4.813273        4.386874        4.218702   \n",
       "48            13.707801        4.901715        4.456844        4.249358   \n",
       "14            13.222189        4.791806        4.283359        4.063190   \n",
       "63            11.651661        5.044779        4.474342        4.202246   \n",
       "\n",
       "    AFFX-TrpnX-3_at  AFFX-TrpnX-5_at  AFFX-TrpnX-M_at  \n",
       "88         3.923703         4.111312         4.094231  \n",
       "23         3.986668         4.155982         4.076248  \n",
       "48         4.043522         4.229169         4.102726  \n",
       "14         3.921959         4.149170         4.063612  \n",
       "63         4.020624         4.276949         4.062319  \n",
       "\n",
       "[5 rows x 22285 columns]"
      ]
     },
     "execution_count": 47,
     "metadata": {},
     "output_type": "execute_result"
    }
   ],
   "source": [
    "df.head()"
   ]
  },
  {
   "cell_type": "code",
   "execution_count": 48,
   "metadata": {},
   "outputs": [
    {
     "name": "stdout",
     "output_type": "stream",
     "text": [
      "<class 'pandas.core.frame.DataFrame'>\n",
      "Index: 78 entries, 88 to 32\n",
      "Columns: 22285 entries, samples to AFFX-TrpnX-M_at\n",
      "dtypes: float64(22283), object(2)\n",
      "memory usage: 13.3+ MB\n"
     ]
    }
   ],
   "source": [
    "df.info()"
   ]
  },
  {
   "cell_type": "markdown",
   "metadata": {},
   "source": [
    "#### The data contains 78 samples, each having 22283 genes, an overian cancer subtype and a sample id"
   ]
  },
  {
   "cell_type": "code",
   "execution_count": 49,
   "metadata": {},
   "outputs": [
    {
     "data": {
      "text/plain": [
       "samples            0\n",
       "type               0\n",
       "1007_s_at          0\n",
       "1053_at            0\n",
       "117_at             0\n",
       "                  ..\n",
       "AFFX-ThrX-5_at     0\n",
       "AFFX-ThrX-M_at     0\n",
       "AFFX-TrpnX-3_at    0\n",
       "AFFX-TrpnX-5_at    0\n",
       "AFFX-TrpnX-M_at    0\n",
       "Length: 22285, dtype: int64"
      ]
     },
     "execution_count": 49,
     "metadata": {},
     "output_type": "execute_result"
    }
   ],
   "source": [
    "df.isnull().sum()"
   ]
  },
  {
   "cell_type": "markdown",
   "metadata": {},
   "source": [
    "#### There are no null values in the dataset"
   ]
  },
  {
   "cell_type": "code",
   "execution_count": 50,
   "metadata": {},
   "outputs": [
    {
     "data": {
      "text/plain": [
       "samples            78\n",
       "type                4\n",
       "1007_s_at          78\n",
       "1053_at            78\n",
       "117_at             78\n",
       "                   ..\n",
       "AFFX-ThrX-5_at     78\n",
       "AFFX-ThrX-M_at     78\n",
       "AFFX-TrpnX-3_at    78\n",
       "AFFX-TrpnX-5_at    78\n",
       "AFFX-TrpnX-M_at    78\n",
       "Length: 22285, dtype: int64"
      ]
     },
     "execution_count": 50,
     "metadata": {},
     "output_type": "execute_result"
    }
   ],
   "source": [
    "df.nunique()"
   ]
  },
  {
   "cell_type": "code",
   "execution_count": 51,
   "metadata": {},
   "outputs": [
    {
     "data": {
      "text/plain": [
       "{np.int64(4),\n",
       " np.int64(73),\n",
       " np.int64(74),\n",
       " np.int64(75),\n",
       " np.int64(76),\n",
       " np.int64(77),\n",
       " np.int64(78)}"
      ]
     },
     "execution_count": 51,
     "metadata": {},
     "output_type": "execute_result"
    }
   ],
   "source": [
    "set(df.nunique().values)"
   ]
  },
  {
   "cell_type": "markdown",
   "metadata": {},
   "source": [
    "#### There are indeed 4 types of ovarian cancer as specified in the problem statement\n",
    "#### There are different values for every gene per sample (almost always as many values as samples) which is to be expected given that these are continuous values that represent a gene's expression (activity)"
   ]
  },
  {
   "cell_type": "code",
   "execution_count": 52,
   "metadata": {},
   "outputs": [
    {
     "data": {
      "text/plain": [
       "array(['Ovarian_Tumor_Serous', 'Ovarian_Tumor_Endometrioid',\n",
       "       'Ovarian_Tumor_Mucinous', 'Ovarian_Tumor_ClearCel'], dtype=object)"
      ]
     },
     "execution_count": 52,
     "metadata": {},
     "output_type": "execute_result"
    }
   ],
   "source": [
    "df['type'].unique()"
   ]
  },
  {
   "cell_type": "markdown",
   "metadata": {},
   "source": [
    "#### Let us see how many samples there is per type"
   ]
  },
  {
   "cell_type": "code",
   "execution_count": 63,
   "metadata": {},
   "outputs": [
    {
     "data": {
      "text/plain": [
       "type\n",
       "Ovarian_Tumor_ClearCel         6\n",
       "Ovarian_Tumor_Endometrioid    29\n",
       "Ovarian_Tumor_Mucinous        10\n",
       "Ovarian_Tumor_Serous          33\n",
       "dtype: int64"
      ]
     },
     "execution_count": 63,
     "metadata": {},
     "output_type": "execute_result"
    }
   ],
   "source": [
    "df.groupby('type').size()"
   ]
  },
  {
   "cell_type": "markdown",
   "metadata": {},
   "source": [
    "#### There is a slight class imbalance, especially for the \"clear cell\", but given the size of the dataset it is not that significant"
   ]
  },
  {
   "cell_type": "code",
   "execution_count": 53,
   "metadata": {},
   "outputs": [],
   "source": [
    "gene_names = [gene for gene in df.columns if gene != 'type' and gene != 'samples']"
   ]
  },
  {
   "cell_type": "code",
   "execution_count": 54,
   "metadata": {},
   "outputs": [],
   "source": [
    "X = df[gene_names]\n",
    "y = df['type'].values\n",
    "types = df['type'].unique()\n",
    "assert len(y) == len(X)"
   ]
  },
  {
   "cell_type": "markdown",
   "metadata": {},
   "source": [
    "### 3) Performing EDA"
   ]
  },
  {
   "cell_type": "code",
   "execution_count": 55,
   "metadata": {},
   "outputs": [
    {
     "data": {
      "text/plain": [
       "<Axes: >"
      ]
     },
     "execution_count": 55,
     "metadata": {},
     "output_type": "execute_result"
    },
    {
     "data": {
      "image/png": "[encoded data removed]",
      "text/plain": [
       "<Figure size 640x480 with 2 Axes>"
      ]
     },
     "metadata": {},
     "output_type": "display_data"
    }
   ],
   "source": [
    "sns.heatmap(X)"
   ]
  },
  {
   "cell_type": "markdown",
   "metadata": {},
   "source": [
    "#### We can clearly see corelations between the different genes\n",
    "#### This remark confirms the following statement : \n",
    "\"Other diseases are influenced by genetics, but the genes a person gets from their parents only change their risk of getting a disease. Most of these diseases are inherited in a complex way, with either multiple genes involved, or coming from both genes and the environment.\" [7]\n",
    "\n",
    "#### This insinuates that there are specific genes that might cause specific types of ovarian cancer.\n",
    "\n",
    "#### To confirm this, let us take a closer look at the first 20 genes of the first 20 samples"
   ]
  },
  {
   "cell_type": "code",
   "execution_count": 56,
   "metadata": {},
   "outputs": [
    {
     "data": {
      "text/plain": [
       "<Axes: >"
      ]
     },
     "execution_count": 56,
     "metadata": {},
     "output_type": "execute_result"
    },
    {
     "data": {
      "image/png": "[encoded data removed]",
      "text/plain": [
       "<Figure size 640x480 with 2 Axes>"
      ]
     },
     "metadata": {},
     "output_type": "display_data"
    }
   ],
   "source": [
    "sns.heatmap(X[X.columns.values[:20]][:20])"
   ]
  },
  {
   "cell_type": "markdown",
   "metadata": {},
   "source": [
    "#### We can now see more clearly these correlations. However, we cannot make any conclusions since performing an EDA on 20k+ features is not visually informative."
   ]
  },
  {
   "cell_type": "markdown",
   "metadata": {},
   "source": [
    "#### The presence of correlations gives us valuable insights :\n",
    "##### There are important correlations between the features which means that we can use less features to train our model."
   ]
  },
  {
   "cell_type": "markdown",
   "metadata": {},
   "source": [
    "### Let us check if there are any distribution similarities between some examples of the dataset"
   ]
  },
  {
   "cell_type": "code",
   "execution_count": 62,
   "metadata": {},
   "outputs": [
    {
     "data": {
      "text/html": [
       "<div>\n",
       "<style scoped>\n",
       "    .dataframe tbody tr th:only-of-type {\n",
       "        vertical-align: middle;\n",
       "    }\n",
       "\n",
       "    .dataframe tbody tr th {\n",
       "        vertical-align: top;\n",
       "    }\n",
       "\n",
       "    .dataframe thead th {\n",
       "        text-align: right;\n",
       "    }\n",
       "</style>\n",
       "<table border=\"1\" class=\"dataframe\">\n",
       "  <thead>\n",
       "    <tr style=\"text-align: right;\">\n",
       "      <th></th>\n",
       "      <th>1007_s_at</th>\n",
       "      <th>1053_at</th>\n",
       "      <th>117_at</th>\n",
       "      <th>121_at</th>\n",
       "      <th>1255_g_at</th>\n",
       "      <th>1294_at</th>\n",
       "      <th>1316_at</th>\n",
       "      <th>1320_at</th>\n",
       "      <th>1405_i_at</th>\n",
       "      <th>1431_at</th>\n",
       "    </tr>\n",
       "    <tr>\n",
       "      <th>type</th>\n",
       "      <th></th>\n",
       "      <th></th>\n",
       "      <th></th>\n",
       "      <th></th>\n",
       "      <th></th>\n",
       "      <th></th>\n",
       "      <th></th>\n",
       "      <th></th>\n",
       "      <th></th>\n",
       "      <th></th>\n",
       "    </tr>\n",
       "  </thead>\n",
       "  <tbody>\n",
       "    <tr>\n",
       "      <th>Ovarian_Tumor_ClearCel</th>\n",
       "      <td>10.194808</td>\n",
       "      <td>6.662571</td>\n",
       "      <td>6.047250</td>\n",
       "      <td>11.851596</td>\n",
       "      <td>4.413169</td>\n",
       "      <td>8.010221</td>\n",
       "      <td>5.744046</td>\n",
       "      <td>5.060157</td>\n",
       "      <td>6.025045</td>\n",
       "      <td>4.338529</td>\n",
       "    </tr>\n",
       "    <tr>\n",
       "      <th>Ovarian_Tumor_Endometrioid</th>\n",
       "      <td>10.567949</td>\n",
       "      <td>6.711782</td>\n",
       "      <td>6.050898</td>\n",
       "      <td>10.717645</td>\n",
       "      <td>4.320064</td>\n",
       "      <td>8.034135</td>\n",
       "      <td>5.552443</td>\n",
       "      <td>5.025869</td>\n",
       "      <td>5.223668</td>\n",
       "      <td>4.301988</td>\n",
       "    </tr>\n",
       "    <tr>\n",
       "      <th>Ovarian_Tumor_Mucinous</th>\n",
       "      <td>10.731804</td>\n",
       "      <td>6.477752</td>\n",
       "      <td>6.000054</td>\n",
       "      <td>9.667768</td>\n",
       "      <td>4.335330</td>\n",
       "      <td>8.232681</td>\n",
       "      <td>5.614922</td>\n",
       "      <td>5.090098</td>\n",
       "      <td>5.456882</td>\n",
       "      <td>4.277196</td>\n",
       "    </tr>\n",
       "    <tr>\n",
       "      <th>Ovarian_Tumor_Serous</th>\n",
       "      <td>10.981506</td>\n",
       "      <td>6.797305</td>\n",
       "      <td>6.146528</td>\n",
       "      <td>11.023967</td>\n",
       "      <td>4.331611</td>\n",
       "      <td>8.069757</td>\n",
       "      <td>5.531191</td>\n",
       "      <td>5.061754</td>\n",
       "      <td>5.496498</td>\n",
       "      <td>4.285198</td>\n",
       "    </tr>\n",
       "  </tbody>\n",
       "</table>\n",
       "</div>"
      ],
      "text/plain": [
       "                            1007_s_at   1053_at    117_at     121_at  \\\n",
       "type                                                                   \n",
       "Ovarian_Tumor_ClearCel      10.194808  6.662571  6.047250  11.851596   \n",
       "Ovarian_Tumor_Endometrioid  10.567949  6.711782  6.050898  10.717645   \n",
       "Ovarian_Tumor_Mucinous      10.731804  6.477752  6.000054   9.667768   \n",
       "Ovarian_Tumor_Serous        10.981506  6.797305  6.146528  11.023967   \n",
       "\n",
       "                            1255_g_at   1294_at   1316_at   1320_at  \\\n",
       "type                                                                  \n",
       "Ovarian_Tumor_ClearCel       4.413169  8.010221  5.744046  5.060157   \n",
       "Ovarian_Tumor_Endometrioid   4.320064  8.034135  5.552443  5.025869   \n",
       "Ovarian_Tumor_Mucinous       4.335330  8.232681  5.614922  5.090098   \n",
       "Ovarian_Tumor_Serous         4.331611  8.069757  5.531191  5.061754   \n",
       "\n",
       "                            1405_i_at   1431_at  \n",
       "type                                             \n",
       "Ovarian_Tumor_ClearCel       6.025045  4.338529  \n",
       "Ovarian_Tumor_Endometrioid   5.223668  4.301988  \n",
       "Ovarian_Tumor_Mucinous       5.456882  4.277196  \n",
       "Ovarian_Tumor_Serous         5.496498  4.285198  "
      ]
     },
     "execution_count": 62,
     "metadata": {},
     "output_type": "execute_result"
    }
   ],
   "source": [
    "pd.pivot_table(df, index = 'type', values = X.columns[:10], aggfunc = 'mean')"
   ]
  },
  {
   "cell_type": "markdown",
   "metadata": {},
   "source": [
    "#### The mean gene expression values tend to vary differently. For example, the gene 1007_s_at the expression values increase from clear cell, endometroid, mucinous, to serous. However, It has almost the opposit evolution for the gene 121_at"
   ]
  },
  {
   "cell_type": "markdown",
   "metadata": {},
   "source": [
    "#### Let us check the distribution of the first 4 gene expression following the cancer type"
   ]
  },
  {
   "cell_type": "code",
   "execution_count": 60,
   "metadata": {},
   "outputs": [
    {
     "data": {
      "image/png": "[encoded data removed]",
      "text/plain": [
       "<Figure size 1200x1200 with 4 Axes>"
      ]
     },
     "metadata": {},
     "output_type": "display_data"
    }
   ],
   "source": [
    "df.boxplot(column = gene_names[:4] , by = 'type', figsize=(12, 12))\n",
    "plt.show()"
   ]
  },
  {
   "cell_type": "markdown",
   "metadata": {},
   "source": [
    "#### There are different distributions for the gene expression values checked per cancer type. This is a good sign since it means that some genes have different expressions that vary depanding on the cancer type"
   ]
  },
  {
   "cell_type": "markdown",
   "metadata": {},
   "source": [
    "## EDA Conclusion : \n",
    "\n",
    "- There are correlations between gene expressions => Some features can be removed\n",
    "\n",
    "- There are differences in gene expression distributions => The expressions can be helpful to differentiate between the cancer types"
   ]
  },
  {
   "cell_type": "markdown",
   "metadata": {},
   "source": [
    "## 4) Data engineering & Model creation\n",
    "- We do not need to handle any missing features since all the values are not null.\n",
    "- The Microarray techniques tend to be error prone, outlier detection can be interesting. However, since we do not have an expert, it is better to keep all the values nad use a model that is not sensitive to outliers.\n",
    "- We can also remove some features since there are correlations between them.\n",
    "\n",
    "Therefore, we will focus in this section on obtaining less features to feed our model."
   ]
  },
  {
   "cell_type": "markdown",
   "metadata": {},
   "source": [
    "### Feature engineering\n",
    "\n",
    "Typically, we either select a subet of features (feature selection) or transform the set of features to a lower dimension set (dimensionality reduction). \n",
    "\n",
    "In this scenario, using dimensionality reduction techniques such as PCA or T-SNE can result in better classification results but we will lose the initial features significance. This will limit the interpretability of the results since we will not be able to clearly identify which genes are responsable for the results obtained.\n",
    "\n",
    "Additionally, it is known that the possibility of getting cancer can be traced back to specific genes. This means that there is a subset of features that can be informative to our model in the prediction task. Therefore, we will use feature selection to obtain a samller set of genes that are maximally informative.\n",
    "\n",
    "In theory, the genes responsible for the cancer types should be the same regardless of the model used. Consequently, we choose to experiment with two feature selection approaches : filter and embedded.\n",
    "\n",
    "Wrapper approaches for feature selection are costly to use and they take into account the model used, that is why we decided to not use them for now."
   ]
  },
  {
   "cell_type": "markdown",
   "metadata": {},
   "source": [
    "## A) The filter method\n",
    "\n",
    "We use one commonly used feature importance metric : Information Gain (IG)\n",
    "\n",
    "Information Gain (or Kullback–Leibler divergence) computes the amount of information gained about a random variable or signal from observing another random variable (in our case gene expressions).\n",
    "\n",
    "Information Gain has solid foundations in information theory and it seems to be more adapted since it is not based on correlation or variance which are both impacted by noise."
   ]
  },
  {
   "cell_type": "code",
   "execution_count": 128,
   "metadata": {},
   "outputs": [
    {
     "data": {
      "image/png": "[encoded data removed]",
      "text/plain": [
       "<Figure size 640x480 with 1 Axes>"
      ]
     },
     "metadata": {},
     "output_type": "display_data"
    }
   ],
   "source": [
    "from sklearn.feature_selection import mutual_info_classif\n",
    "import matplotlib.pyplot as plt\n",
    "\n",
    "# Computing importance using IG\n",
    "importances = mutual_info_classif(X, y)\n",
    "\n",
    "# Retrieving the IG scores and plotting for every gene its IG\n",
    "feat_importances = pd.Series(importances, X.columns)\n",
    "feat_importances.plot(kind='barh', color = 'teal')\n",
    "plt.show()"
   ]
  },
  {
   "cell_type": "code",
   "execution_count": 129,
   "metadata": {},
   "outputs": [
    {
     "data": {
      "text/plain": [
       "217984_at      0.488838\n",
       "205313_at      0.482410\n",
       "201301_s_at    0.467043\n",
       "209173_at      0.439591\n",
       "205799_s_at    0.436206\n",
       "                 ...   \n",
       "213158_at      0.228245\n",
       "200924_s_at    0.227935\n",
       "216372_at      0.227852\n",
       "214088_s_at    0.227790\n",
       "201734_at      0.227737\n",
       "Length: 500, dtype: float64"
      ]
     },
     "execution_count": 129,
     "metadata": {},
     "output_type": "execute_result"
    }
   ],
   "source": [
    "# Sorted list of gene expressions following their information gain values\n",
    "feat_importances.sort_values(ascending = False).head(500)"
   ]
  },
  {
   "cell_type": "code",
   "execution_count": 135,
   "metadata": {},
   "outputs": [],
   "source": [
    "# We consider the top 1000 genes following their information gain\n",
    "important_features = feat_importances.sort_values(ascending=False).head(1000).index.values"
   ]
  },
  {
   "cell_type": "markdown",
   "metadata": {},
   "source": [
    "#### We opted for SVM since its a model that works well with small datasets \n",
    "#### Despite being sensitive to outliers which is the case here since Microarray data contain noise, the use of SVM should not be a problem since we perfomed feature selection thus reducing noise"
   ]
  },
  {
   "cell_type": "code",
   "execution_count": 136,
   "metadata": {},
   "outputs": [
    {
     "data": {
      "text/html": [
       "<style>#sk-container-id-3 {\n",
       "  /* Definition of color scheme common for light and dark mode */\n",
       "  --sklearn-color-text: black;\n",
       "  --sklearn-color-line: gray;\n",
       "  /* Definition of color scheme for unfitted estimators */\n",
       "  --sklearn-color-unfitted-level-0: #fff5e6;\n",
       "  --sklearn-color-unfitted-level-1: #f6e4d2;\n",
       "  --sklearn-color-unfitted-level-2: #ffe0b3;\n",
       "  --sklearn-color-unfitted-level-3: chocolate;\n",
       "  /* Definition of color scheme for fitted estimators */\n",
       "  --sklearn-color-fitted-level-0: #f0f8ff;\n",
       "  --sklearn-color-fitted-level-1: #d4ebff;\n",
       "  --sklearn-color-fitted-level-2: #b3dbfd;\n",
       "  --sklearn-color-fitted-level-3: cornflowerblue;\n",
       "\n",
       "  /* Specific color for light theme */\n",
       "  --sklearn-color-text-on-default-background: var(--sg-text-color, var(--theme-code-foreground, var(--jp-content-font-color1, black)));\n",
       "  --sklearn-color-background: var(--sg-background-color, var(--theme-background, var(--jp-layout-color0, white)));\n",
       "  --sklearn-color-border-box: var(--sg-text-color, var(--theme-code-foreground, var(--jp-content-font-color1, black)));\n",
       "  --sklearn-color-icon: #696969;\n",
       "\n",
       "  @media (prefers-color-scheme: dark) {\n",
       "    /* Redefinition of color scheme for dark theme */\n",
       "    --sklearn-color-text-on-default-background: var(--sg-text-color, var(--theme-code-foreground, var(--jp-content-font-color1, white)));\n",
       "    --sklearn-color-background: var(--sg-background-color, var(--theme-background, var(--jp-layout-color0, #111)));\n",
       "    --sklearn-color-border-box: var(--sg-text-color, var(--theme-code-foreground, var(--jp-content-font-color1, white)));\n",
       "    --sklearn-color-icon: #878787;\n",
       "  }\n",
       "}\n",
       "\n",
       "#sk-container-id-3 {\n",
       "  color: var(--sklearn-color-text);\n",
       "}\n",
       "\n",
       "#sk-container-id-3 pre {\n",
       "  padding: 0;\n",
       "}\n",
       "\n",
       "#sk-container-id-3 input.sk-hidden--visually {\n",
       "  border: 0;\n",
       "  clip: rect(1px 1px 1px 1px);\n",
       "  clip: rect(1px, 1px, 1px, 1px);\n",
       "  height: 1px;\n",
       "  margin: -1px;\n",
       "  overflow: hidden;\n",
       "  padding: 0;\n",
       "  position: absolute;\n",
       "  width: 1px;\n",
       "}\n",
       "\n",
       "#sk-container-id-3 div.sk-dashed-wrapped {\n",
       "  border: 1px dashed var(--sklearn-color-line);\n",
       "  margin: 0 0.4em 0.5em 0.4em;\n",
       "  box-sizing: border-box;\n",
       "  padding-bottom: 0.4em;\n",
       "  background-color: var(--sklearn-color-background);\n",
       "}\n",
       "\n",
       "#sk-container-id-3 div.sk-container {\n",
       "  /* jupyter's `normalize.less` sets `[hidden] { display: none; }`\n",
       "     but bootstrap.min.css set `[hidden] { display: none !important; }`\n",
       "     so we also need the `!important` here to be able to override the\n",
       "     default hidden behavior on the sphinx rendered scikit-learn.org.\n",
       "     See: https://github.com/scikit-learn/scikit-learn/issues/21755 */\n",
       "  display: inline-block !important;\n",
       "  position: relative;\n",
       "}\n",
       "\n",
       "#sk-container-id-3 div.sk-text-repr-fallback {\n",
       "  display: none;\n",
       "}\n",
       "\n",
       "div.sk-parallel-item,\n",
       "div.sk-serial,\n",
       "div.sk-item {\n",
       "  /* draw centered vertical line to link estimators */\n",
       "  background-image: linear-gradient(var(--sklearn-color-text-on-default-background), var(--sklearn-color-text-on-default-background));\n",
       "  background-size: 2px 100%;\n",
       "  background-repeat: no-repeat;\n",
       "  background-position: center center;\n",
       "}\n",
       "\n",
       "/* Parallel-specific style estimator block */\n",
       "\n",
       "#sk-container-id-3 div.sk-parallel-item::after {\n",
       "  content: \"\";\n",
       "  width: 100%;\n",
       "  border-bottom: 2px solid var(--sklearn-color-text-on-default-background);\n",
       "  flex-grow: 1;\n",
       "}\n",
       "\n",
       "#sk-container-id-3 div.sk-parallel {\n",
       "  display: flex;\n",
       "  align-items: stretch;\n",
       "  justify-content: center;\n",
       "  background-color: var(--sklearn-color-background);\n",
       "  position: relative;\n",
       "}\n",
       "\n",
       "#sk-container-id-3 div.sk-parallel-item {\n",
       "  display: flex;\n",
       "  flex-direction: column;\n",
       "}\n",
       "\n",
       "#sk-container-id-3 div.sk-parallel-item:first-child::after {\n",
       "  align-self: flex-end;\n",
       "  width: 50%;\n",
       "}\n",
       "\n",
       "#sk-container-id-3 div.sk-parallel-item:last-child::after {\n",
       "  align-self: flex-start;\n",
       "  width: 50%;\n",
       "}\n",
       "\n",
       "#sk-container-id-3 div.sk-parallel-item:only-child::after {\n",
       "  width: 0;\n",
       "}\n",
       "\n",
       "/* Serial-specific style estimator block */\n",
       "\n",
       "#sk-container-id-3 div.sk-serial {\n",
       "  display: flex;\n",
       "  flex-direction: column;\n",
       "  align-items: center;\n",
       "  background-color: var(--sklearn-color-background);\n",
       "  padding-right: 1em;\n",
       "  padding-left: 1em;\n",
       "}\n",
       "\n",
       "\n",
       "/* Toggleable style: style used for estimator/Pipeline/ColumnTransformer box that is\n",
       "clickable and can be expanded/collapsed.\n",
       "- Pipeline and ColumnTransformer use this feature and define the default style\n",
       "- Estimators will overwrite some part of the style using the `sk-estimator` class\n",
       "*/\n",
       "\n",
       "/* Pipeline and ColumnTransformer style (default) */\n",
       "\n",
       "#sk-container-id-3 div.sk-toggleable {\n",
       "  /* Default theme specific background. It is overwritten whether we have a\n",
       "  specific estimator or a Pipeline/ColumnTransformer */\n",
       "  background-color: var(--sklearn-color-background);\n",
       "}\n",
       "\n",
       "/* Toggleable label */\n",
       "#sk-container-id-3 label.sk-toggleable__label {\n",
       "  cursor: pointer;\n",
       "  display: block;\n",
       "  width: 100%;\n",
       "  margin-bottom: 0;\n",
       "  padding: 0.5em;\n",
       "  box-sizing: border-box;\n",
       "  text-align: center;\n",
       "}\n",
       "\n",
       "#sk-container-id-3 label.sk-toggleable__label-arrow:before {\n",
       "  /* Arrow on the left of the label */\n",
       "  content: \"▸\";\n",
       "  float: left;\n",
       "  margin-right: 0.25em;\n",
       "  color: var(--sklearn-color-icon);\n",
       "}\n",
       "\n",
       "#sk-container-id-3 label.sk-toggleable__label-arrow:hover:before {\n",
       "  color: var(--sklearn-color-text);\n",
       "}\n",
       "\n",
       "/* Toggleable content - dropdown */\n",
       "\n",
       "#sk-container-id-3 div.sk-toggleable__content {\n",
       "  max-height: 0;\n",
       "  max-width: 0;\n",
       "  overflow: hidden;\n",
       "  text-align: left;\n",
       "  /* unfitted */\n",
       "  background-color: var(--sklearn-color-unfitted-level-0);\n",
       "}\n",
       "\n",
       "#sk-container-id-3 div.sk-toggleable__content.fitted {\n",
       "  /* fitted */\n",
       "  background-color: var(--sklearn-color-fitted-level-0);\n",
       "}\n",
       "\n",
       "#sk-container-id-3 div.sk-toggleable__content pre {\n",
       "  margin: 0.2em;\n",
       "  border-radius: 0.25em;\n",
       "  color: var(--sklearn-color-text);\n",
       "  /* unfitted */\n",
       "  background-color: var(--sklearn-color-unfitted-level-0);\n",
       "}\n",
       "\n",
       "#sk-container-id-3 div.sk-toggleable__content.fitted pre {\n",
       "  /* unfitted */\n",
       "  background-color: var(--sklearn-color-fitted-level-0);\n",
       "}\n",
       "\n",
       "#sk-container-id-3 input.sk-toggleable__control:checked~div.sk-toggleable__content {\n",
       "  /* Expand drop-down */\n",
       "  max-height: 200px;\n",
       "  max-width: 100%;\n",
       "  overflow: auto;\n",
       "}\n",
       "\n",
       "#sk-container-id-3 input.sk-toggleable__control:checked~label.sk-toggleable__label-arrow:before {\n",
       "  content: \"▾\";\n",
       "}\n",
       "\n",
       "/* Pipeline/ColumnTransformer-specific style */\n",
       "\n",
       "#sk-container-id-3 div.sk-label input.sk-toggleable__control:checked~label.sk-toggleable__label {\n",
       "  color: var(--sklearn-color-text);\n",
       "  background-color: var(--sklearn-color-unfitted-level-2);\n",
       "}\n",
       "\n",
       "#sk-container-id-3 div.sk-label.fitted input.sk-toggleable__control:checked~label.sk-toggleable__label {\n",
       "  background-color: var(--sklearn-color-fitted-level-2);\n",
       "}\n",
       "\n",
       "/* Estimator-specific style */\n",
       "\n",
       "/* Colorize estimator box */\n",
       "#sk-container-id-3 div.sk-estimator input.sk-toggleable__control:checked~label.sk-toggleable__label {\n",
       "  /* unfitted */\n",
       "  background-color: var(--sklearn-color-unfitted-level-2);\n",
       "}\n",
       "\n",
       "#sk-container-id-3 div.sk-estimator.fitted input.sk-toggleable__control:checked~label.sk-toggleable__label {\n",
       "  /* fitted */\n",
       "  background-color: var(--sklearn-color-fitted-level-2);\n",
       "}\n",
       "\n",
       "#sk-container-id-3 div.sk-label label.sk-toggleable__label,\n",
       "#sk-container-id-3 div.sk-label label {\n",
       "  /* The background is the default theme color */\n",
       "  color: var(--sklearn-color-text-on-default-background);\n",
       "}\n",
       "\n",
       "/* On hover, darken the color of the background */\n",
       "#sk-container-id-3 div.sk-label:hover label.sk-toggleable__label {\n",
       "  color: var(--sklearn-color-text);\n",
       "  background-color: var(--sklearn-color-unfitted-level-2);\n",
       "}\n",
       "\n",
       "/* Label box, darken color on hover, fitted */\n",
       "#sk-container-id-3 div.sk-label.fitted:hover label.sk-toggleable__label.fitted {\n",
       "  color: var(--sklearn-color-text);\n",
       "  background-color: var(--sklearn-color-fitted-level-2);\n",
       "}\n",
       "\n",
       "/* Estimator label */\n",
       "\n",
       "#sk-container-id-3 div.sk-label label {\n",
       "  font-family: monospace;\n",
       "  font-weight: bold;\n",
       "  display: inline-block;\n",
       "  line-height: 1.2em;\n",
       "}\n",
       "\n",
       "#sk-container-id-3 div.sk-label-container {\n",
       "  text-align: center;\n",
       "}\n",
       "\n",
       "/* Estimator-specific */\n",
       "#sk-container-id-3 div.sk-estimator {\n",
       "  font-family: monospace;\n",
       "  border: 1px dotted var(--sklearn-color-border-box);\n",
       "  border-radius: 0.25em;\n",
       "  box-sizing: border-box;\n",
       "  margin-bottom: 0.5em;\n",
       "  /* unfitted */\n",
       "  background-color: var(--sklearn-color-unfitted-level-0);\n",
       "}\n",
       "\n",
       "#sk-container-id-3 div.sk-estimator.fitted {\n",
       "  /* fitted */\n",
       "  background-color: var(--sklearn-color-fitted-level-0);\n",
       "}\n",
       "\n",
       "/* on hover */\n",
       "#sk-container-id-3 div.sk-estimator:hover {\n",
       "  /* unfitted */\n",
       "  background-color: var(--sklearn-color-unfitted-level-2);\n",
       "}\n",
       "\n",
       "#sk-container-id-3 div.sk-estimator.fitted:hover {\n",
       "  /* fitted */\n",
       "  background-color: var(--sklearn-color-fitted-level-2);\n",
       "}\n",
       "\n",
       "/* Specification for estimator info (e.g. \"i\" and \"?\") */\n",
       "\n",
       "/* Common style for \"i\" and \"?\" */\n",
       "\n",
       ".sk-estimator-doc-link,\n",
       "a:link.sk-estimator-doc-link,\n",
       "a:visited.sk-estimator-doc-link {\n",
       "  float: right;\n",
       "  font-size: smaller;\n",
       "  line-height: 1em;\n",
       "  font-family: monospace;\n",
       "  background-color: var(--sklearn-color-background);\n",
       "  border-radius: 1em;\n",
       "  height: 1em;\n",
       "  width: 1em;\n",
       "  text-decoration: none !important;\n",
       "  margin-left: 1ex;\n",
       "  /* unfitted */\n",
       "  border: var(--sklearn-color-unfitted-level-1) 1pt solid;\n",
       "  color: var(--sklearn-color-unfitted-level-1);\n",
       "}\n",
       "\n",
       ".sk-estimator-doc-link.fitted,\n",
       "a:link.sk-estimator-doc-link.fitted,\n",
       "a:visited.sk-estimator-doc-link.fitted {\n",
       "  /* fitted */\n",
       "  border: var(--sklearn-color-fitted-level-1) 1pt solid;\n",
       "  color: var(--sklearn-color-fitted-level-1);\n",
       "}\n",
       "\n",
       "/* On hover */\n",
       "div.sk-estimator:hover .sk-estimator-doc-link:hover,\n",
       ".sk-estimator-doc-link:hover,\n",
       "div.sk-label-container:hover .sk-estimator-doc-link:hover,\n",
       ".sk-estimator-doc-link:hover {\n",
       "  /* unfitted */\n",
       "  background-color: var(--sklearn-color-unfitted-level-3);\n",
       "  color: var(--sklearn-color-background);\n",
       "  text-decoration: none;\n",
       "}\n",
       "\n",
       "div.sk-estimator.fitted:hover .sk-estimator-doc-link.fitted:hover,\n",
       ".sk-estimator-doc-link.fitted:hover,\n",
       "div.sk-label-container:hover .sk-estimator-doc-link.fitted:hover,\n",
       ".sk-estimator-doc-link.fitted:hover {\n",
       "  /* fitted */\n",
       "  background-color: var(--sklearn-color-fitted-level-3);\n",
       "  color: var(--sklearn-color-background);\n",
       "  text-decoration: none;\n",
       "}\n",
       "\n",
       "/* Span, style for the box shown on hovering the info icon */\n",
       ".sk-estimator-doc-link span {\n",
       "  display: none;\n",
       "  z-index: 9999;\n",
       "  position: relative;\n",
       "  font-weight: normal;\n",
       "  right: .2ex;\n",
       "  padding: .5ex;\n",
       "  margin: .5ex;\n",
       "  width: min-content;\n",
       "  min-width: 20ex;\n",
       "  max-width: 50ex;\n",
       "  color: var(--sklearn-color-text);\n",
       "  box-shadow: 2pt 2pt 4pt #999;\n",
       "  /* unfitted */\n",
       "  background: var(--sklearn-color-unfitted-level-0);\n",
       "  border: .5pt solid var(--sklearn-color-unfitted-level-3);\n",
       "}\n",
       "\n",
       ".sk-estimator-doc-link.fitted span {\n",
       "  /* fitted */\n",
       "  background: var(--sklearn-color-fitted-level-0);\n",
       "  border: var(--sklearn-color-fitted-level-3);\n",
       "}\n",
       "\n",
       ".sk-estimator-doc-link:hover span {\n",
       "  display: block;\n",
       "}\n",
       "\n",
       "/* \"?\"-specific style due to the `<a>` HTML tag */\n",
       "\n",
       "#sk-container-id-3 a.estimator_doc_link {\n",
       "  float: right;\n",
       "  font-size: 1rem;\n",
       "  line-height: 1em;\n",
       "  font-family: monospace;\n",
       "  background-color: var(--sklearn-color-background);\n",
       "  border-radius: 1rem;\n",
       "  height: 1rem;\n",
       "  width: 1rem;\n",
       "  text-decoration: none;\n",
       "  /* unfitted */\n",
       "  color: var(--sklearn-color-unfitted-level-1);\n",
       "  border: var(--sklearn-color-unfitted-level-1) 1pt solid;\n",
       "}\n",
       "\n",
       "#sk-container-id-3 a.estimator_doc_link.fitted {\n",
       "  /* fitted */\n",
       "  border: var(--sklearn-color-fitted-level-1) 1pt solid;\n",
       "  color: var(--sklearn-color-fitted-level-1);\n",
       "}\n",
       "\n",
       "/* On hover */\n",
       "#sk-container-id-3 a.estimator_doc_link:hover {\n",
       "  /* unfitted */\n",
       "  background-color: var(--sklearn-color-unfitted-level-3);\n",
       "  color: var(--sklearn-color-background);\n",
       "  text-decoration: none;\n",
       "}\n",
       "\n",
       "#sk-container-id-3 a.estimator_doc_link.fitted:hover {\n",
       "  /* fitted */\n",
       "  background-color: var(--sklearn-color-fitted-level-3);\n",
       "}\n",
       "</style><div id=\"sk-container-id-3\" class=\"sk-top-container\"><div class=\"sk-text-repr-fallback\"><pre>Pipeline(steps=[(&#x27;standardscaler&#x27;, StandardScaler()),\n",
       "                (&#x27;svc&#x27;, SVC(gamma=&#x27;auto&#x27;))])</pre><b>In a Jupyter environment, please rerun this cell to show the HTML representation or trust the notebook. <br />On GitHub, the HTML representation is unable to render, please try loading this page with nbviewer.org.</b></div><div class=\"sk-container\" hidden><div class=\"sk-item sk-dashed-wrapped\"><div class=\"sk-label-container\"><div class=\"sk-label fitted sk-toggleable\"><input class=\"sk-toggleable__control sk-hidden--visually\" id=\"sk-estimator-id-5\" type=\"checkbox\" ><label for=\"sk-estimator-id-5\" class=\"sk-toggleable__label fitted sk-toggleable__label-arrow fitted\">&nbsp;&nbsp;Pipeline<a class=\"sk-estimator-doc-link fitted\" rel=\"noreferrer\" target=\"_blank\" href=\"https://scikit-learn.org/1.5/modules/generated/sklearn.pipeline.Pipeline.html\">?<span>Documentation for Pipeline</span></a><span class=\"sk-estimator-doc-link fitted\">i<span>Fitted</span></span></label><div class=\"sk-toggleable__content fitted\"><pre>Pipeline(steps=[(&#x27;standardscaler&#x27;, StandardScaler()),\n",
       "                (&#x27;svc&#x27;, SVC(gamma=&#x27;auto&#x27;))])</pre></div> </div></div><div class=\"sk-serial\"><div class=\"sk-item\"><div class=\"sk-estimator fitted sk-toggleable\"><input class=\"sk-toggleable__control sk-hidden--visually\" id=\"sk-estimator-id-6\" type=\"checkbox\" ><label for=\"sk-estimator-id-6\" class=\"sk-toggleable__label fitted sk-toggleable__label-arrow fitted\">&nbsp;StandardScaler<a class=\"sk-estimator-doc-link fitted\" rel=\"noreferrer\" target=\"_blank\" href=\"https://scikit-learn.org/1.5/modules/generated/sklearn.preprocessing.StandardScaler.html\">?<span>Documentation for StandardScaler</span></a></label><div class=\"sk-toggleable__content fitted\"><pre>StandardScaler()</pre></div> </div></div><div class=\"sk-item\"><div class=\"sk-estimator fitted sk-toggleable\"><input class=\"sk-toggleable__control sk-hidden--visually\" id=\"sk-estimator-id-7\" type=\"checkbox\" ><label for=\"sk-estimator-id-7\" class=\"sk-toggleable__label fitted sk-toggleable__label-arrow fitted\">&nbsp;SVC<a class=\"sk-estimator-doc-link fitted\" rel=\"noreferrer\" target=\"_blank\" href=\"https://scikit-learn.org/1.5/modules/generated/sklearn.svm.SVC.html\">?<span>Documentation for SVC</span></a></label><div class=\"sk-toggleable__content fitted\"><pre>SVC(gamma=&#x27;auto&#x27;)</pre></div> </div></div></div></div></div></div>"
      ],
      "text/plain": [
       "Pipeline(steps=[('standardscaler', StandardScaler()),\n",
       "                ('svc', SVC(gamma='auto'))])"
      ]
     },
     "execution_count": 136,
     "metadata": {},
     "output_type": "execute_result"
    }
   ],
   "source": [
    "# Use an SVM classifier to predict the cancer types using only the features selected\n",
    "from sklearn.svm import SVC\n",
    "from sklearn.pipeline import make_pipeline\n",
    "from sklearn.preprocessing import StandardScaler\n",
    "\n",
    "\n",
    "# Create an SVM classifier \n",
    "model = make_pipeline(StandardScaler(), SVC(gamma='auto'))\n",
    "X_reduced = X[important_features]\n",
    "\n",
    "# Fit the model to the data\n",
    "model.fit(X_reduced, y)"
   ]
  },
  {
   "cell_type": "code",
   "execution_count": 137,
   "metadata": {},
   "outputs": [
    {
     "data": {
      "text/html": [
       "<div>\n",
       "<style scoped>\n",
       "    .dataframe tbody tr th:only-of-type {\n",
       "        vertical-align: middle;\n",
       "    }\n",
       "\n",
       "    .dataframe tbody tr th {\n",
       "        vertical-align: top;\n",
       "    }\n",
       "\n",
       "    .dataframe thead th {\n",
       "        text-align: right;\n",
       "    }\n",
       "</style>\n",
       "<table border=\"1\" class=\"dataframe\">\n",
       "  <thead>\n",
       "    <tr style=\"text-align: right;\">\n",
       "      <th></th>\n",
       "      <th>samples</th>\n",
       "      <th>type</th>\n",
       "      <th>1007_s_at</th>\n",
       "      <th>1053_at</th>\n",
       "      <th>117_at</th>\n",
       "      <th>121_at</th>\n",
       "      <th>1255_g_at</th>\n",
       "      <th>1294_at</th>\n",
       "      <th>1316_at</th>\n",
       "      <th>1320_at</th>\n",
       "      <th>...</th>\n",
       "      <th>AFFX-r2-Hs28SrRNA-5_at</th>\n",
       "      <th>AFFX-r2-Hs28SrRNA-M_at</th>\n",
       "      <th>AFFX-r2-P1-cre-3_at</th>\n",
       "      <th>AFFX-r2-P1-cre-5_at</th>\n",
       "      <th>AFFX-ThrX-3_at</th>\n",
       "      <th>AFFX-ThrX-5_at</th>\n",
       "      <th>AFFX-ThrX-M_at</th>\n",
       "      <th>AFFX-TrpnX-3_at</th>\n",
       "      <th>AFFX-TrpnX-5_at</th>\n",
       "      <th>AFFX-TrpnX-M_at</th>\n",
       "    </tr>\n",
       "  </thead>\n",
       "  <tbody>\n",
       "    <tr>\n",
       "      <th>2</th>\n",
       "      <td>GSM139379.CEL.gz</td>\n",
       "      <td>Ovarian_Tumor_ClearCel</td>\n",
       "      <td>9.965433</td>\n",
       "      <td>5.985501</td>\n",
       "      <td>5.934106</td>\n",
       "      <td>11.450878</td>\n",
       "      <td>4.531086</td>\n",
       "      <td>8.132967</td>\n",
       "      <td>5.674546</td>\n",
       "      <td>4.905562</td>\n",
       "      <td>...</td>\n",
       "      <td>4.422940</td>\n",
       "      <td>5.101742</td>\n",
       "      <td>12.676774</td>\n",
       "      <td>12.121132</td>\n",
       "      <td>4.807272</td>\n",
       "      <td>4.250548</td>\n",
       "      <td>4.212394</td>\n",
       "      <td>4.080735</td>\n",
       "      <td>4.152480</td>\n",
       "      <td>4.149600</td>\n",
       "    </tr>\n",
       "    <tr>\n",
       "      <th>95</th>\n",
       "      <td>GSM139473.CEL.gz</td>\n",
       "      <td>Ovarian_Tumor_Serous</td>\n",
       "      <td>10.409115</td>\n",
       "      <td>6.828334</td>\n",
       "      <td>5.824865</td>\n",
       "      <td>10.740165</td>\n",
       "      <td>4.362750</td>\n",
       "      <td>7.773209</td>\n",
       "      <td>5.539237</td>\n",
       "      <td>5.240613</td>\n",
       "      <td>...</td>\n",
       "      <td>4.783151</td>\n",
       "      <td>5.893559</td>\n",
       "      <td>12.694608</td>\n",
       "      <td>12.184063</td>\n",
       "      <td>5.003979</td>\n",
       "      <td>4.432284</td>\n",
       "      <td>4.216210</td>\n",
       "      <td>4.004154</td>\n",
       "      <td>4.383120</td>\n",
       "      <td>4.307563</td>\n",
       "    </tr>\n",
       "    <tr>\n",
       "      <th>19</th>\n",
       "      <td>GSM139396.CEL.gz</td>\n",
       "      <td>Ovarian_Tumor_Endometrioid</td>\n",
       "      <td>10.329271</td>\n",
       "      <td>7.017162</td>\n",
       "      <td>5.921843</td>\n",
       "      <td>10.524740</td>\n",
       "      <td>4.296693</td>\n",
       "      <td>8.067781</td>\n",
       "      <td>5.552618</td>\n",
       "      <td>5.018155</td>\n",
       "      <td>...</td>\n",
       "      <td>4.576997</td>\n",
       "      <td>5.717107</td>\n",
       "      <td>13.395747</td>\n",
       "      <td>13.498504</td>\n",
       "      <td>4.904752</td>\n",
       "      <td>4.393962</td>\n",
       "      <td>4.185619</td>\n",
       "      <td>3.972211</td>\n",
       "      <td>4.157963</td>\n",
       "      <td>4.152601</td>\n",
       "    </tr>\n",
       "    <tr>\n",
       "      <th>40</th>\n",
       "      <td>GSM139417.CEL.gz</td>\n",
       "      <td>Ovarian_Tumor_Endometrioid</td>\n",
       "      <td>10.130511</td>\n",
       "      <td>6.164366</td>\n",
       "      <td>5.881440</td>\n",
       "      <td>9.663632</td>\n",
       "      <td>4.371584</td>\n",
       "      <td>8.030204</td>\n",
       "      <td>5.691863</td>\n",
       "      <td>5.243910</td>\n",
       "      <td>...</td>\n",
       "      <td>4.338367</td>\n",
       "      <td>5.774157</td>\n",
       "      <td>12.717617</td>\n",
       "      <td>12.273596</td>\n",
       "      <td>4.917590</td>\n",
       "      <td>4.342942</td>\n",
       "      <td>4.207619</td>\n",
       "      <td>4.093228</td>\n",
       "      <td>4.225025</td>\n",
       "      <td>4.196922</td>\n",
       "    </tr>\n",
       "    <tr>\n",
       "      <th>44</th>\n",
       "      <td>GSM139421.CEL.gz</td>\n",
       "      <td>Ovarian_Tumor_Endometrioid</td>\n",
       "      <td>10.513373</td>\n",
       "      <td>6.370582</td>\n",
       "      <td>5.855983</td>\n",
       "      <td>10.522540</td>\n",
       "      <td>4.294194</td>\n",
       "      <td>7.777619</td>\n",
       "      <td>5.464102</td>\n",
       "      <td>4.990287</td>\n",
       "      <td>...</td>\n",
       "      <td>4.425628</td>\n",
       "      <td>5.415099</td>\n",
       "      <td>12.536751</td>\n",
       "      <td>12.029308</td>\n",
       "      <td>4.812089</td>\n",
       "      <td>4.333665</td>\n",
       "      <td>4.205790</td>\n",
       "      <td>3.956694</td>\n",
       "      <td>4.191278</td>\n",
       "      <td>4.213071</td>\n",
       "    </tr>\n",
       "  </tbody>\n",
       "</table>\n",
       "<p>5 rows × 22285 columns</p>\n",
       "</div>"
      ],
      "text/plain": [
       "             samples                        type  1007_s_at   1053_at  \\\n",
       "2   GSM139379.CEL.gz      Ovarian_Tumor_ClearCel   9.965433  5.985501   \n",
       "95  GSM139473.CEL.gz        Ovarian_Tumor_Serous  10.409115  6.828334   \n",
       "19  GSM139396.CEL.gz  Ovarian_Tumor_Endometrioid  10.329271  7.017162   \n",
       "40  GSM139417.CEL.gz  Ovarian_Tumor_Endometrioid  10.130511  6.164366   \n",
       "44  GSM139421.CEL.gz  Ovarian_Tumor_Endometrioid  10.513373  6.370582   \n",
       "\n",
       "      117_at     121_at  1255_g_at   1294_at   1316_at   1320_at  ...  \\\n",
       "2   5.934106  11.450878   4.531086  8.132967  5.674546  4.905562  ...   \n",
       "95  5.824865  10.740165   4.362750  7.773209  5.539237  5.240613  ...   \n",
       "19  5.921843  10.524740   4.296693  8.067781  5.552618  5.018155  ...   \n",
       "40  5.881440   9.663632   4.371584  8.030204  5.691863  5.243910  ...   \n",
       "44  5.855983  10.522540   4.294194  7.777619  5.464102  4.990287  ...   \n",
       "\n",
       "    AFFX-r2-Hs28SrRNA-5_at  AFFX-r2-Hs28SrRNA-M_at  AFFX-r2-P1-cre-3_at  \\\n",
       "2                 4.422940                5.101742            12.676774   \n",
       "95                4.783151                5.893559            12.694608   \n",
       "19                4.576997                5.717107            13.395747   \n",
       "40                4.338367                5.774157            12.717617   \n",
       "44                4.425628                5.415099            12.536751   \n",
       "\n",
       "    AFFX-r2-P1-cre-5_at  AFFX-ThrX-3_at  AFFX-ThrX-5_at  AFFX-ThrX-M_at  \\\n",
       "2             12.121132        4.807272        4.250548        4.212394   \n",
       "95            12.184063        5.003979        4.432284        4.216210   \n",
       "19            13.498504        4.904752        4.393962        4.185619   \n",
       "40            12.273596        4.917590        4.342942        4.207619   \n",
       "44            12.029308        4.812089        4.333665        4.205790   \n",
       "\n",
       "    AFFX-TrpnX-3_at  AFFX-TrpnX-5_at  AFFX-TrpnX-M_at  \n",
       "2          4.080735         4.152480         4.149600  \n",
       "95         4.004154         4.383120         4.307563  \n",
       "19         3.972211         4.157963         4.152601  \n",
       "40         4.093228         4.225025         4.196922  \n",
       "44         3.956694         4.191278         4.213071  \n",
       "\n",
       "[5 rows x 22285 columns]"
      ]
     },
     "execution_count": 137,
     "metadata": {},
     "output_type": "execute_result"
    }
   ],
   "source": [
    "# Load the test file\n",
    "df_test = pd.read_csv('Data/test.csv', index_col = 0)\n",
    "df_test.head()"
   ]
  },
  {
   "cell_type": "code",
   "execution_count": 138,
   "metadata": {},
   "outputs": [],
   "source": [
    "# Prepare the variables needed for testing\n",
    "X_test = df_test[important_features]\n",
    "Y_test = df_test['type'].values\n",
    "assert len(X_test) == len(Y_test)\n",
    "Y_pred = model.predict(X_test)"
   ]
  },
  {
   "cell_type": "code",
   "execution_count": 139,
   "metadata": {},
   "outputs": [
    {
     "name": "stdout",
     "output_type": "stream",
     "text": [
      "Accuracy score on test :  0.8\n",
      "Weighted F1 score on test :  0.7892230576441103\n",
      "Weighted Precision score on test :  0.8242424242424242\n"
     ]
    }
   ],
   "source": [
    "from sklearn.metrics import accuracy_score, f1_score, precision_score\n",
    "\n",
    "print(\"Accuracy score on test : \", accuracy_score(Y_test, Y_pred))\n",
    "print(\"Weighted F1 score on test : \", f1_score(Y_test, Y_pred, average = \"weighted\"))\n",
    "print(\"Weighted Precision score on test : \", precision_score(Y_test, Y_pred, average = \"weighted\"))"
   ]
  },
  {
   "cell_type": "markdown",
   "metadata": {},
   "source": [
    "## With no filter\n",
    "\n",
    "Now, we redo the same process without feature selection to check if it has improved the results"
   ]
  },
  {
   "cell_type": "code",
   "execution_count": 143,
   "metadata": {},
   "outputs": [
    {
     "name": "stdout",
     "output_type": "stream",
     "text": [
      "Accuracy score on test :  0.65\n",
      "Weighted F1 score on test :  0.6\n",
      "Weighted Precision score on test :  0.5952380952380952\n"
     ]
    },
    {
     "name": "stderr",
     "output_type": "stream",
     "text": [
      "/home/abazouzi/Documents/Code/CancerSubtype/cancersubtype/lib64/python3.10/site-packages/sklearn/metrics/_classification.py:1531: UndefinedMetricWarning: Precision is ill-defined and being set to 0.0 in labels with no predicted samples. Use `zero_division` parameter to control this behavior.\n",
      "  _warn_prf(average, modifier, f\"{metric.capitalize()} is\", len(result))\n"
     ]
    }
   ],
   "source": [
    "# Create an SVM classifier \n",
    "model = make_pipeline(StandardScaler(), SVC(gamma='auto'))\n",
    "\n",
    "# Fit the model to the data\n",
    "model.fit(X, y)\n",
    "\n",
    "X_test = df_test[gene_names]\n",
    "Y_test = df_test['type'].values\n",
    "assert len(X_test) == len(Y_test)\n",
    "Y_pred = model.predict(X_test)\n",
    "\n",
    "print(\"Accuracy score on test : \", accuracy_score(Y_test, Y_pred))\n",
    "print(\"Weighted F1 score on test : \", f1_score(Y_test, Y_pred, average = \"weighted\"))\n",
    "print(\"Weighted Precision score on test : \", precision_score(Y_test, Y_pred, average = \"weighted\"))"
   ]
  },
  {
   "cell_type": "markdown",
   "metadata": {},
   "source": [
    "## Discussion\n",
    "\n",
    "As expected, using only an informative subset of features has sped up the training and improved the results.\n",
    "\n",
    "Taking into account all the features can deteriorate the results especially for a model that is sensitive to outliers like SVM."
   ]
  },
  {
   "cell_type": "markdown",
   "metadata": {},
   "source": [
    "## B) The embedded method\n",
    "\n",
    "We use a model that automatically choses the features it takes into account. The model chosen is the random forest classifier.\n",
    "\n",
    "Being an ensemble method, random forest has tolerance for outliers since it classifies using multiple decision trees that are trained on multiple subsets of the data which makes the model robust.\n",
    "\n",
    "The features chosen are also given importance scores computed by the model itself."
   ]
  },
  {
   "cell_type": "code",
   "execution_count": 140,
   "metadata": {},
   "outputs": [
    {
     "data": {
      "text/plain": [
       "<Axes: >"
      ]
     },
     "execution_count": 140,
     "metadata": {},
     "output_type": "execute_result"
    },
    {
     "data": {
      "image/png": "[encoded data removed]",
      "text/plain": [
       "<Figure size 640x480 with 1 Axes>"
      ]
     },
     "metadata": {},
     "output_type": "display_data"
    }
   ],
   "source": [
    "from sklearn.ensemble import RandomForestClassifier\n",
    "\n",
    "# Create a Random Forest classifier\n",
    "model = RandomForestClassifier(n_estimators=300)\n",
    "\n",
    "# Fit the model to the data\n",
    "model.fit(X, y)\n",
    "\n",
    "# Get the importance of the resulting features\n",
    "importances = model.feature_importances_\n",
    "\n",
    "# Create a dataframe for visualization\n",
    "final_df = pd.DataFrame({'Features': pd.DataFrame(X).columns, 'Importances': importances})\n",
    "final_df.set_index('Importances')\n",
    "\n",
    "# Sort in ascending order for better visualization\n",
    "final_df = final_df.sort_values('Importances')\n",
    "\n",
    "# Plot the feature importances in bars\n",
    "final_df.plot.bar(color='teal')"
   ]
  },
  {
   "cell_type": "code",
   "execution_count": 141,
   "metadata": {},
   "outputs": [
    {
     "name": "stdout",
     "output_type": "stream",
     "text": [
      "Accuracy score on test :  0.75\n",
      "Weighted F1 score on test :  0.7368421052631579\n",
      "Weighted Precision score on test :  0.7766233766233767\n"
     ]
    }
   ],
   "source": [
    "X_test = df_test[gene_names]\n",
    "Y_test = df_test['type'].values\n",
    "assert len(X_test) == len(Y_test)\n",
    "Y_pred = model.predict(X_test)\n",
    "print(\"Accuracy score on test : \", accuracy_score(Y_test, Y_pred))\n",
    "print(\"Weighted F1 score on test : \", f1_score(Y_test, Y_pred, average = \"weighted\"))\n",
    "print(\"Weighted Precision score on test : \", precision_score(Y_test, Y_pred, average = \"weighted\"))"
   ]
  },
  {
   "cell_type": "markdown",
   "metadata": {},
   "source": [
    "## Discussion\n",
    "\n",
    "After having tried two feature selection methods, it is clear that SVM with filter feature selection works better.\n",
    "When feeding SVM features that contain minimal noise, it can outperform random forests in these evaluation settings."
   ]
  },
  {
   "cell_type": "markdown",
   "metadata": {},
   "source": [
    "# 5) Conclusion\n",
    "In this notebook, we have analyzed the problem of cancer subtype classification using gene expression. We started by reading about genetics to better understand the problem, some of the concepts studied are : genes, gene profiling with ADN Microarry and RNA sequencing, and the relation between genetics and diseases.\n",
    "\n",
    "We took a closer look at the dataset and performed exploratory data analysis and came up with two conclusions : some gene expressions are correlated and gene expression distributions are different.\n",
    "\n",
    "Taking these two conclusions into account we proposed conducting feature engineering to obtain a subset of gene expressions to feed a model. We used two approaches : Filter methods and embedded methods. Filter methods using information gain and SVMs showed to perform better than random forests (embedded methods). However, this is not a conclusive result, more methods should be tested before drawing conclusions.\n",
    "\n",
    "# 6) Improvment plan \n",
    "\n",
    "## Design\n",
    "\n",
    "- Read more about the used methods and try some of the models used : Neural Networks, Autoencoders, etc [1-6].\n",
    "- Opt for a method that is not sensitive to outliers.\n",
    "- Since the dataset is small, we can run multiple methods and keep the model with the best performance.\n",
    "- Run the models on different subsets of the gene expressions and find the optimal subset.\n",
    "- Think more about which metrics should be used to evaluate the results.\n",
    "- Use Cross validation to evaluate the models and use grid search to search for the best parameters and hyperparameters.\n",
    "\n",
    "## Implementation\n",
    "\n",
    "- Modularize and structure the project by ceating different files for the models, data ingestion, data transformation, logging, exception handeling, etc. Then, build a pipeline that can be directly deployed."
   ]
  },
  {
   "cell_type": "markdown",
   "metadata": {},
   "source": [
    "## 7) Bibliography\n",
    "[1] L.-Y. Guo, A.-H. Wu, Y. Wang, L. Zhang, H. Chai, and X.-F. Liang, “Deep learning-based ovarian cancer subtypes identification using multi-omics data,” BioData Mining, vol. 13, no. 1, p. 10, Dec. 2020, doi: 10.1186/s13040-020-00222-x.\n",
    "\n",
    "[2] F. Alharbi and A. Vakanski, “Machine Learning Methods for Cancer Classification Using Gene Expression Data: A Review,” Bioengineering, vol. 10, no. 2, Art. no. 2, Feb. 2023, doi: 10.3390/bioengineering10020173.\n",
    "\n",
    "[3] A. El-Nabawy, N. El-Bendary, and N. A. Belal, “Epithelial Ovarian Cancer Stage Subtype Classification using Clinical and Gene Expression Integrative Approach,” Procedia Computer Science, vol. 131, pp. 23–30, Jan. 2018, doi: 10.1016/j.procs.2018.04.181.\n",
    "\n",
    "[4] Md. A. Hossain, S. M. Saiful Islam, J. M. W. Quinn, F. Huq, and M. A. Moni, “Machine learning and bioinformatics models to identify gene expression patterns of ovarian cancer associated with disease progression and mortality,” Journal of Biomedical Informatics, vol. 100, p. 103313, Dec. 2019, doi: 10.1016/j.jbi.2019.103313.\n",
    "\n",
    "[5] T. Vaiyapuri, Liyakathunisa, H. Alaskar, E. Aljohani, S. Shridevi, and A. Hussain, “Red Fox Optimizer with Data-Science-Enabled Microarray Gene Expression Classification Model,” Applied Sciences, vol. 12, no. 9, Art. no. 9, Jan. 2022, doi: 10.3390/app12094172.\n",
    "\n",
    "[6] M. Mohammed, H. Mwambi, I. B. Mboya, M. K. Elbashir, and B. Omolo, “A stacking ensemble deep learning approach to cancer type classification based on TCGA data,” Scientific reports, vol. 11, no. 1, p. 15626, 2021.\n",
    "\n",
    "[7] J. Peto, “Breast cancer susceptibility—A new look at an old model,” Cancer Cell, vol. 1, no. 5, pp. 411–412, Jun. 2002, doi: 10.1016/S1535-6108(02)00079-X."
   ]
  }
 ],
 "metadata": {
  "kernelspec": {
   "display_name": "cancersubtype",
   "language": "python",
   "name": "python3"
  },
  "language_info": {
   "codemirror_mode": {
    "name": "ipython",
    "version": 3
   },
   "file_extension": ".py",
   "mimetype": "text/x-python",
   "name": "python",
   "nbconvert_exporter": "python",
   "pygments_lexer": "ipython3",
   "version": "3.10.8"
  }
 },
 "nbformat": 4,
 "nbformat_minor": 2
}
